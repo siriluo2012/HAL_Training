{
 "cells": [
  {
   "cell_type": "markdown",
   "id": "50d4cfc5",
   "metadata": {},
   "source": [
    "__Goals__ of this tutorial: __Entry-Level__ understanding of the basic components of TensorFlow \n",
    "\n",
    "__Prerequisite__: Python, Numpy, Machine learning, Neural Network\n",
    "\n",
    "__Claim__: Some of this tutorial uses https://github.com/mrdbourke/tensorflow-deep-learning/ as reference"
   ]
  },
  {
   "cell_type": "markdown",
   "id": "fde5e011",
   "metadata": {},
   "source": [
    "Steps in modelling with Tensorflow:\n",
    "\n",
    "0. Get training data ready (turn into tensors)\n",
    "1. Create a model (or pick a pretrained model): define the input, output layers, and the hidden layers of a DL model;\n",
    "2. Compile a model - define the loss function, the optimizer, and the evaluation metrics;\n",
    "3. Fit a model (Evaluate the model) - letting the model try to find patterns between features and labels;\n",
    "4. Improve the model through experimentation (Hyperparameter tuning);\n",
    "5. Visualize, interpret the result and save your trained model. "
   ]
  },
  {
   "cell_type": "markdown",
   "id": "11e083d3",
   "metadata": {},
   "source": [
    "<center><img src=\"images/neural_network.png\" width=\"360\" height=\"270\"/></center>"
   ]
  },
  {
   "cell_type": "code",
   "execution_count": null,
   "id": "7fbca050",
   "metadata": {},
   "outputs": [],
   "source": [
    "import numpy as np\n",
    "import tensorflow as tf\n",
    "print(tf.__version__)"
   ]
  },
  {
   "cell_type": "code",
   "execution_count": null,
   "id": "6ac44a91",
   "metadata": {},
   "outputs": [],
   "source": [
    "# if memory growth is enabled for a PhysicalDevice, the runtime initialization will not allocate all memory on the device.\n",
    "\n",
    "physical_devices = tf.config.list_physical_devices('GPU') \n",
    "for device in physical_devices:\n",
    "    tf.config.experimental.set_memory_growth(device, True)"
   ]
  },
  {
   "cell_type": "code",
   "execution_count": null,
   "id": "20b3fd6d",
   "metadata": {},
   "outputs": [],
   "source": [
    "# Set random seed\n",
    "tf.random.set_seed(42)\n",
    "\n",
    "# 0. Create data\n",
    "X = np.arange(0, 20, 1, dtype='float64')\n",
    "noise = 10*np.random.rand(20) \n",
    "Y = 2*X + noise\n",
    "\n",
    "X = tf.constant(X)\n",
    "Y = tf.constant(Y)"
   ]
  },
  {
   "cell_type": "code",
   "execution_count": null,
   "id": "e4798cb7",
   "metadata": {},
   "outputs": [],
   "source": [
    "import matplotlib.pyplot as plt\n",
    "plt.scatter(X, Y) \n",
    "plt.rcParams['figure.figsize'] = [3, 2]\n",
    "plt.show()"
   ]
  },
  {
   "cell_type": "code",
   "execution_count": null,
   "id": "24c105f1",
   "metadata": {},
   "outputs": [],
   "source": [
    "# 1. Create a model using the keras Sequential API\n",
    "model = tf.keras.Sequential([\n",
    "    tf.keras.layers.Dense(1)\n",
    "])\n",
    "\n",
    "# 2. Compile the model\n",
    "model.compile(loss = tf.keras.losses.mae, # mean absolute error\n",
    "             optimizer = tf.keras.optimizers.Adam(lr=0.1),  \n",
    "             metrics=[\"mae\"])\n",
    "\n",
    "#3. Fit the model\n",
    "model.fit(X,Y, epochs=20)"
   ]
  },
  {
   "cell_type": "code",
   "execution_count": null,
   "id": "8a1f225a",
   "metadata": {},
   "outputs": [],
   "source": [
    "model.summary()"
   ]
  },
  {
   "cell_type": "code",
   "execution_count": null,
   "id": "5b421a66",
   "metadata": {},
   "outputs": [],
   "source": [
    "# Try and make a prediction using our model \n",
    "y_pred = model.predict([10.0])\n",
    "y_pred"
   ]
  },
  {
   "cell_type": "markdown",
   "id": "c8dc4616",
   "metadata": {},
   "source": [
    "## Improve our model \n",
    "we can 1) add more layers, 2) increase the number of hidden units, 3) change the activation function, 4) change the optimizer, 5) fit the model with more epochs\n",
    "Good reading material: http://karpathy.github.io/2019/04/25/recipe/"
   ]
  },
  {
   "cell_type": "code",
   "execution_count": null,
   "id": "8a44c3b1",
   "metadata": {},
   "outputs": [],
   "source": [
    "# 1. Create a model using the Sequential API\n",
    "model = tf.keras.Sequential([\n",
    "    tf.keras.layers.Dense(100, activation=\"relu\"), \n",
    "    tf.keras.layers.Dense(100, activation=\"relu\"), \n",
    "    tf.keras.layers.Dense(100, activation=\"relu\"), \n",
    "    tf.keras.layers.Dense(1)\n",
    "])\n",
    "\n",
    "# 2. Compile the model\n",
    "model.compile(loss = tf.keras.losses.mse, \n",
    "             optimizer = tf.keras.optimizers.Adam(lr=0.0001),  \n",
    "             metrics=[\"mae\"])\n",
    "\n",
    "#3. Fit the model\n",
    "model.fit(X,Y, epochs=400)"
   ]
  },
  {
   "cell_type": "code",
   "execution_count": null,
   "id": "314a095d",
   "metadata": {},
   "outputs": [],
   "source": [
    "model.summary()"
   ]
  },
  {
   "cell_type": "code",
   "execution_count": null,
   "id": "565d87d7",
   "metadata": {},
   "outputs": [],
   "source": [
    "# Try and make a prediction using our model \n",
    "y_pred = model.predict([10.0])\n",
    "y_pred"
   ]
  },
  {
   "cell_type": "code",
   "execution_count": null,
   "id": "61b90f17",
   "metadata": {},
   "outputs": [],
   "source": [
    "# Visualize and interpret\n",
    "\n",
    "Y_pred = model.predict(X)\n",
    "plt.scatter(X, Y) \n",
    "plt.plot([X[0], X[-1]], [Y_pred[0], Y_pred[-1]], color='red')  # regression line\n",
    "plt.show()"
   ]
  },
  {
   "cell_type": "markdown",
   "id": "c9e60a8c",
   "metadata": {},
   "source": [
    "In Practice, a typical workflow when building neural network model is:\n",
    "\n",
    "    Build a model -> fit it -> evaluate it -> tweak the model -> fit and evaluate it -> tweak the model -> fit and evaluate it ..."
   ]
  },
  {
   "cell_type": "markdown",
   "id": "35ec0f9b",
   "metadata": {},
   "source": [
    "### Homework: Learn to fine-tuning the hyperparameters:\n",
    "\n",
    "https://www.tensorflow.org/api_docs/python/tf/keras/losses\n",
    "\n",
    "https://www.tensorflow.org/api_docs/python/tf/keras/optimizers"
   ]
  }
 ],
 "metadata": {
  "kernelspec": {
   "display_name": "Python [conda env:wmlce-v1.7.0]",
   "language": "python",
   "name": "conda-env-wmlce-v1.7.0-py"
  },
  "language_info": {
   "codemirror_mode": {
    "name": "ipython",
    "version": 3
   },
   "file_extension": ".py",
   "mimetype": "text/x-python",
   "name": "python",
   "nbconvert_exporter": "python",
   "pygments_lexer": "ipython3",
   "version": "3.7.10"
  }
 },
 "nbformat": 4,
 "nbformat_minor": 5
}
