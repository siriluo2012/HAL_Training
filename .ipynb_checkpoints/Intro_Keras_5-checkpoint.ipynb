{
 "cells": [
  {
   "cell_type": "markdown",
   "id": "f559e4dc",
   "metadata": {},
   "source": [
    "### In this tutorial we will learn to create tf.data.Dataset to build Python generator and enable Augmentation. \n",
    "1. dataset you have is too big to be loaded into memory at once that you run out of RAM\n",
    "2.  read images __on the go__ when they will be used for training to save memory "
   ]
  },
  {
   "cell_type": "code",
   "execution_count": 13,
   "id": "4d4ba533",
   "metadata": {},
   "outputs": [],
   "source": [
    "import tensorflow as tf\n",
    "import numpy as np\n",
    "import matplotlib.pyplot as plt\n",
    "import math"
   ]
  },
  {
   "cell_type": "code",
   "execution_count": 34,
   "id": "f0554ff7",
   "metadata": {},
   "outputs": [],
   "source": [
    "(x_train, y_train), (x_test, y_test) = tf.keras.datasets.fashion_mnist.load_data()"
   ]
  },
  {
   "cell_type": "code",
   "execution_count": 36,
   "id": "7c9d7ebb",
   "metadata": {},
   "outputs": [
    {
     "data": {
      "text/plain": [
       "(dtype('uint8'), (60000, 28, 28), dtype('uint8'), (60000,))"
      ]
     },
     "execution_count": 36,
     "metadata": {},
     "output_type": "execute_result"
    }
   ],
   "source": [
    "x_train.dtype, x_train.shape, y_train.dtype, y_train.shape"
   ]
  },
  {
   "cell_type": "code",
   "execution_count": 37,
   "id": "7620d319",
   "metadata": {},
   "outputs": [
    {
     "name": "stdout",
     "output_type": "stream",
     "text": [
      "Memory size of a NumPy array: 0.047 GB\n"
     ]
    }
   ],
   "source": [
    "# check the size of dataset in GB\n",
    "print(\"Memory size of a NumPy array:\",\n",
    "      np.round(x_train.nbytes*1e-9, 3), \"GB\")"
   ]
  },
  {
   "cell_type": "code",
   "execution_count": 38,
   "id": "b2f36bf0",
   "metadata": {},
   "outputs": [
    {
     "data": {
      "image/png": "[encoded data removed]",
      "text/plain": [
       "<Figure size 640x480 with 1 Axes>"
      ]
     },
     "metadata": {},
     "output_type": "display_data"
    }
   ],
   "source": [
    "# pick a sample to plot\n",
    "sample = 0\n",
    "image = x_train[sample]\n",
    "\n",
    "# plot the sample\n",
    "fig = plt.figure\n",
    "plt.imshow(image, cmap='gray')\n",
    "plt.show()"
   ]
  },
  {
   "cell_type": "code",
   "execution_count": 40,
   "id": "dd743c02",
   "metadata": {},
   "outputs": [
    {
     "data": {
      "text/plain": [
       "(dtype('float64'), (60000, 28, 28, 1), dtype('uint8'), (60000,))"
      ]
     },
     "execution_count": 40,
     "metadata": {},
     "output_type": "execute_result"
    }
   ],
   "source": [
    "# Preprocessing\n",
    "x_train = x_train / 255.0\n",
    "x_test = x_test / 255.0\n",
    "\n",
    "# Add one dimension to make 3D images\n",
    "x_train = x_train[...,tf.newaxis]\n",
    "x_test = x_test[...,tf.newaxis]\n",
    "\n",
    "x_train.dtype, x_train.shape, y_train.dtype, y_train.shape"
   ]
  },
  {
   "cell_type": "code",
   "execution_count": 41,
   "id": "e02f5c7e",
   "metadata": {},
   "outputs": [
    {
     "name": "stdout",
     "output_type": "stream",
     "text": [
      "Memory size of a NumPy array: 0.376 GB\n"
     ]
    }
   ],
   "source": [
    "# check the size of dataset in GB\n",
    "print(\"Memory size of a NumPy array:\",\n",
    "      np.round(x_train.nbytes*1e-9, 3), \"GB\")"
   ]
  },
  {
   "cell_type": "markdown",
   "id": "1fd62b90",
   "metadata": {},
   "source": [
    " If the number of images is 100 times more, to 6 millions, then the memory size ~ 37.6 GB, too big for most hardware, we need __Generator__"
   ]
  },
  {
   "cell_type": "markdown",
   "id": "6fc1f36f",
   "metadata": {},
   "source": [
    "### Assuming all of your input data fits in memory, the easiest way to create this Dataset is to convert them to tf.Tensor and then use Dataset.from_tensor_slices"
   ]
  },
  {
   "cell_type": "markdown",
   "id": "decf8c7a",
   "metadata": {},
   "source": [
    "__tf.data.Dataset__ object is a Python iterable. It produces a sequence of elements. "
   ]
  },
  {
   "cell_type": "code",
   "execution_count": 43,
   "id": "8c527880",
   "metadata": {},
   "outputs": [
    {
     "name": "stdout",
     "output_type": "stream",
     "text": [
      "8\n",
      "3\n",
      "0\n",
      "8\n",
      "2\n",
      "1\n"
     ]
    }
   ],
   "source": [
    "dataset = tf.data.Dataset.from_tensor_slices([8, 3, 0, 8, 2, 1]) # Creates a Dataset whose elements are slices of the given tensors.\n",
    "\n",
    "# dataset.element_spec\n",
    "\n",
    "for element in dataset:\n",
    "  print(element.numpy())"
   ]
  },
  {
   "cell_type": "code",
   "execution_count": 44,
   "id": "eedf7751",
   "metadata": {},
   "outputs": [],
   "source": [
    "it = iter(dataset)"
   ]
  },
  {
   "cell_type": "code",
   "execution_count": 45,
   "id": "651609b9",
   "metadata": {},
   "outputs": [
    {
     "name": "stdout",
     "output_type": "stream",
     "text": [
      "8\n"
     ]
    }
   ],
   "source": [
    "print(next(it).numpy())"
   ]
  },
  {
   "cell_type": "markdown",
   "id": "d1a39ecf",
   "metadata": {},
   "source": [
    "### The Dataset.from_generator constructor converts the python generator to a fully functional tf.data.Dataset."
   ]
  },
  {
   "cell_type": "code",
   "execution_count": 47,
   "id": "0712f9e8",
   "metadata": {},
   "outputs": [],
   "source": [
    "def count(stop):\n",
    "    i = 0\n",
    "    while i<stop:\n",
    "        yield i\n",
    "        i += 1"
   ]
  },
  {
   "cell_type": "code",
   "execution_count": 48,
   "id": "db46f7bb",
   "metadata": {},
   "outputs": [
    {
     "name": "stdout",
     "output_type": "stream",
     "text": [
      "0\n",
      "1\n",
      "2\n",
      "3\n",
      "4\n"
     ]
    }
   ],
   "source": [
    "for n in count(5):\n",
    "    print(n)"
   ]
  },
  {
   "cell_type": "code",
   "execution_count": 49,
   "id": "502cbd09",
   "metadata": {},
   "outputs": [],
   "source": [
    "ds_counter = tf.data.Dataset.from_generator(count, args=[25], output_types=tf.int32, output_shapes = (), )"
   ]
  },
  {
   "cell_type": "code",
   "execution_count": 52,
   "id": "ef747fa1",
   "metadata": {},
   "outputs": [
    {
     "name": "stdout",
     "output_type": "stream",
     "text": [
      "[0 1 2 3 4]\n",
      "[5 6 7 8 9]\n",
      "[10 11 12 13 14]\n",
      "[15 16 17 18 19]\n",
      "[20 21 22 23 24]\n"
     ]
    }
   ],
   "source": [
    "for count_batch in ds_counter.repeat().batch(5).take(5):\n",
    "    print(count_batch.numpy())"
   ]
  },
  {
   "cell_type": "code",
   "execution_count": 73,
   "id": "cfadc674",
   "metadata": {},
   "outputs": [],
   "source": [
    "# load the data again\n",
    "train, test = tf.keras.datasets.fashion_mnist.load_data()\n",
    "\n",
    "images, labels = train\n",
    "images = images/255.0\n",
    "labels = labels.astype(np.int32)\n",
    "\n",
    "test_images, test_labels = test\n",
    "test_images = test_images/255.0"
   ]
  },
  {
   "cell_type": "code",
   "execution_count": 74,
   "id": "bf88fa1d",
   "metadata": {},
   "outputs": [],
   "source": [
    "# create a BatchDataset\n",
    "\n",
    "fmnist_train_ds = tf.data.Dataset.from_tensor_slices((images, labels))\n",
    "fmnist_train_ds = fmnist_train_ds.shuffle(5000).batch(32)\n",
    "\n",
    "# The labels are not required when calling Model.predict.\n",
    "predict_ds = tf.data.Dataset.from_tensor_slices(test_images).batch(32)"
   ]
  },
  {
   "cell_type": "code",
   "execution_count": 69,
   "id": "c7294c4d",
   "metadata": {},
   "outputs": [
    {
     "data": {
      "text/plain": [
       "<BatchDataset shapes: ((None, 28, 28), (None,)), types: (tf.float64, tf.int32)>"
      ]
     },
     "execution_count": 69,
     "metadata": {},
     "output_type": "execute_result"
    }
   ],
   "source": [
    "fmnist_train_ds"
   ]
  },
  {
   "cell_type": "code",
   "execution_count": 67,
   "id": "ea370678",
   "metadata": {},
   "outputs": [
    {
     "name": "stdout",
     "output_type": "stream",
     "text": [
      "(<tf.Tensor: shape=(32, 28, 28), dtype=float64, numpy=\n",
      "array([[[0.        , 0.        , 0.        , ..., 0.        ,\n",
      "         0.        , 0.        ],\n",
      "        [0.        , 0.        , 0.        , ..., 0.        ,\n",
      "         0.        , 0.        ],\n",
      "        [0.        , 0.        , 0.        , ..., 0.        ,\n",
      "         0.        , 0.        ],\n",
      "        ...,\n",
      "        [0.        , 0.        , 0.        , ..., 0.        ,\n",
      "         0.        , 0.        ],\n",
      "        [0.        , 0.        , 0.        , ..., 0.        ,\n",
      "         0.        , 0.        ],\n",
      "        [0.        , 0.        , 0.        , ..., 0.        ,\n",
      "         0.        , 0.        ]],\n",
      "\n",
      "       [[0.        , 0.        , 0.        , ..., 0.        ,\n",
      "         0.        , 0.        ],\n",
      "        [0.        , 0.        , 0.        , ..., 0.        ,\n",
      "         0.        , 0.        ],\n",
      "        [0.        , 0.        , 0.        , ..., 0.        ,\n",
      "         0.        , 0.        ],\n",
      "        ...,\n",
      "        [0.        , 0.00392157, 0.        , ..., 0.        ,\n",
      "         0.        , 0.        ],\n",
      "        [0.        , 0.        , 0.        , ..., 0.        ,\n",
      "         0.        , 0.        ],\n",
      "        [0.        , 0.        , 0.        , ..., 0.        ,\n",
      "         0.        , 0.        ]],\n",
      "\n",
      "       [[0.        , 0.        , 0.        , ..., 0.        ,\n",
      "         0.        , 0.        ],\n",
      "        [0.        , 0.        , 0.        , ..., 0.        ,\n",
      "         0.        , 0.        ],\n",
      "        [0.        , 0.        , 0.        , ..., 0.        ,\n",
      "         0.        , 0.        ],\n",
      "        ...,\n",
      "        [0.        , 0.        , 0.        , ..., 0.        ,\n",
      "         0.        , 0.        ],\n",
      "        [0.        , 0.        , 0.        , ..., 0.        ,\n",
      "         0.        , 0.        ],\n",
      "        [0.        , 0.        , 0.        , ..., 0.        ,\n",
      "         0.        , 0.        ]],\n",
      "\n",
      "       ...,\n",
      "\n",
      "       [[0.        , 0.        , 0.        , ..., 0.        ,\n",
      "         0.        , 0.        ],\n",
      "        [0.        , 0.        , 0.        , ..., 0.        ,\n",
      "         0.        , 0.        ],\n",
      "        [0.        , 0.        , 0.        , ..., 0.        ,\n",
      "         0.        , 0.        ],\n",
      "        ...,\n",
      "        [0.        , 0.        , 0.        , ..., 0.        ,\n",
      "         0.        , 0.        ],\n",
      "        [0.        , 0.        , 0.        , ..., 0.        ,\n",
      "         0.        , 0.        ],\n",
      "        [0.        , 0.        , 0.        , ..., 0.        ,\n",
      "         0.        , 0.        ]],\n",
      "\n",
      "       [[0.        , 0.        , 0.        , ..., 0.        ,\n",
      "         0.        , 0.        ],\n",
      "        [0.        , 0.        , 0.        , ..., 0.        ,\n",
      "         0.        , 0.        ],\n",
      "        [0.        , 0.        , 0.        , ..., 0.        ,\n",
      "         0.        , 0.        ],\n",
      "        ...,\n",
      "        [0.        , 0.        , 0.        , ..., 0.        ,\n",
      "         0.        , 0.        ],\n",
      "        [0.        , 0.        , 0.        , ..., 0.        ,\n",
      "         0.        , 0.        ],\n",
      "        [0.        , 0.        , 0.        , ..., 0.        ,\n",
      "         0.        , 0.        ]],\n",
      "\n",
      "       [[0.        , 0.        , 0.        , ..., 0.        ,\n",
      "         0.        , 0.        ],\n",
      "        [0.        , 0.        , 0.        , ..., 0.        ,\n",
      "         0.        , 0.        ],\n",
      "        [0.        , 0.        , 0.        , ..., 0.        ,\n",
      "         0.        , 0.        ],\n",
      "        ...,\n",
      "        [0.        , 0.        , 0.        , ..., 0.        ,\n",
      "         0.        , 0.        ],\n",
      "        [0.        , 0.        , 0.        , ..., 0.        ,\n",
      "         0.        , 0.        ],\n",
      "        [0.        , 0.        , 0.        , ..., 0.        ,\n",
      "         0.        , 0.        ]]])>, <tf.Tensor: shape=(32,), dtype=int32, numpy=\n",
      "array([3, 9, 0, 0, 2, 8, 3, 8, 7, 5, 4, 3, 6, 5, 5, 4, 9, 6, 5, 8, 2, 7,\n",
      "       3, 3, 0, 5, 5, 6, 0, 1, 1, 4], dtype=int32)>)\n"
     ]
    }
   ],
   "source": [
    "# A peek of how BatchDataset \n",
    "\n",
    "it = iter(fmnist_train_ds)\n",
    "print(next(it))"
   ]
  },
  {
   "cell_type": "code",
   "execution_count": 70,
   "id": "c7e77759",
   "metadata": {},
   "outputs": [],
   "source": [
    "# build model\n",
    "\n",
    "model = tf.keras.Sequential([\n",
    "  tf.keras.layers.Flatten(),\n",
    "  tf.keras.layers.Dense(10)\n",
    "])\n",
    "\n",
    "model.compile(optimizer='adam',\n",
    "              loss=tf.keras.losses.SparseCategoricalCrossentropy(from_logits=True), \n",
    "              metrics=['accuracy'])"
   ]
  },
  {
   "cell_type": "code",
   "execution_count": 71,
   "id": "0930ea66",
   "metadata": {},
   "outputs": [
    {
     "name": "stdout",
     "output_type": "stream",
     "text": [
      "Train for 1875 steps\n",
      "Epoch 1/2\n",
      "1875/1875 [==============================] - 4s 2ms/step - loss: 0.5911 - accuracy: 0.8021\n",
      "Epoch 2/2\n",
      "1875/1875 [==============================] - 4s 2ms/step - loss: 0.4608 - accuracy: 0.8429\n"
     ]
    },
    {
     "data": {
      "text/plain": [
       "<tensorflow.python.keras.callbacks.History at 0x7ffede3eb850>"
      ]
     },
     "execution_count": 71,
     "metadata": {},
     "output_type": "execute_result"
    }
   ],
   "source": [
    "model.fit(fmnist_train_ds, epochs=2)"
   ]
  },
  {
   "cell_type": "code",
   "execution_count": 59,
   "id": "17a21d46",
   "metadata": {},
   "outputs": [
    {
     "name": "stdout",
     "output_type": "stream",
     "text": [
      "Train for 40 steps\n",
      "Epoch 1/6\n",
      "40/40 [==============================] - 0s 4ms/step - loss: 0.4105 - accuracy: 0.8508\n",
      "Epoch 2/6\n",
      "40/40 [==============================] - 0s 2ms/step - loss: 0.4572 - accuracy: 0.8383\n",
      "Epoch 3/6\n",
      "40/40 [==============================] - 0s 2ms/step - loss: 0.4354 - accuracy: 0.8484\n",
      "Epoch 4/6\n",
      "40/40 [==============================] - 0s 2ms/step - loss: 0.4778 - accuracy: 0.8367\n",
      "Epoch 5/6\n",
      "40/40 [==============================] - 0s 2ms/step - loss: 0.4190 - accuracy: 0.8555\n",
      "Epoch 6/6\n",
      "40/40 [==============================] - 0s 2ms/step - loss: 0.4061 - accuracy: 0.8648\n"
     ]
    },
    {
     "data": {
      "text/plain": [
       "<tensorflow.python.keras.callbacks.History at 0x7ffede3d8bd0>"
      ]
     },
     "execution_count": 59,
     "metadata": {},
     "output_type": "execute_result"
    }
   ],
   "source": [
    "model.fit(fmnist_train_ds.repeat(), epochs=6, steps_per_epoch=40)"
   ]
  },
  {
   "cell_type": "code",
   "execution_count": 77,
   "id": "0eddba2b",
   "metadata": {},
   "outputs": [
    {
     "name": "stdout",
     "output_type": "stream",
     "text": [
      "(80, 10)\n"
     ]
    }
   ],
   "source": [
    "# The labels are not required when calling Model.predict.\n",
    "\n",
    "predict_ds = tf.data.Dataset.from_tensor_slices(test_images).batch(16)\n",
    "\n",
    "result = model.predict(predict_ds, steps = 5)\n",
    "print(result.shape)"
   ]
  },
  {
   "cell_type": "code",
   "execution_count": null,
   "id": "d2f48ea0",
   "metadata": {},
   "outputs": [],
   "source": []
  },
  {
   "cell_type": "code",
   "execution_count": null,
   "id": "46255e24",
   "metadata": {},
   "outputs": [],
   "source": []
  }
 ],
 "metadata": {
  "kernelspec": {
   "display_name": "Python [conda env:wmlce-v1.7.0]",
   "language": "python",
   "name": "conda-env-wmlce-v1.7.0-py"
  },
  "language_info": {
   "codemirror_mode": {
    "name": "ipython",
    "version": 3
   },
   "file_extension": ".py",
   "mimetype": "text/x-python",
   "name": "python",
   "nbconvert_exporter": "python",
   "pygments_lexer": "ipython3",
   "version": "3.7.10"
  }
 },
 "nbformat": 4,
 "nbformat_minor": 5
}
