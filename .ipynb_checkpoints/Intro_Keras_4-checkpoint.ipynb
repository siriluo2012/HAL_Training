{
 "cells": [
  {
   "cell_type": "markdown",
   "id": "976ca1a8",
   "metadata": {},
   "source": [
    "### Using Tensorflow to work on a real classification problem"
   ]
  },
  {
   "cell_type": "code",
   "execution_count": null,
   "id": "18c36039",
   "metadata": {},
   "outputs": [],
   "source": [
    "import numpy as np\n",
    "import tensorflow as tf\n",
    "import pandas as pd\n",
    "import matplotlib.pyplot as plt\n",
    "import sklearn"
   ]
  },
  {
   "cell_type": "code",
   "execution_count": null,
   "id": "0c60a9a4",
   "metadata": {},
   "outputs": [],
   "source": [
    "from sklearn.datasets import make_circles"
   ]
  },
  {
   "cell_type": "code",
   "execution_count": null,
   "id": "eb31cdd3",
   "metadata": {},
   "outputs": [],
   "source": [
    "n_samples = 1000\n",
    "\n",
    "X, Y = make_circles(n_samples, noise=0.03, random_state=42)\n",
    "\n",
    "circles = pd.DataFrame({\"X0\":X[:,0], \"X1\":X[:,1], \"label\":Y})\n",
    "\n",
    "plt.scatter(X[:,0], X[:,1], c=Y, cmap=plt.cm.RdYlBu)\n",
    "plt.show()"
   ]
  },
  {
   "cell_type": "code",
   "execution_count": null,
   "id": "48078b64",
   "metadata": {},
   "outputs": [],
   "source": [
    "# set the random seed\n",
    "tf.random.set_seed(42)\n",
    "\n",
    "# Build a neural network \n",
    "\n",
    "# 1. Create a model using the Sequential API\n",
    "model = tf.keras.Sequential([\n",
    "    tf.keras.layers.Dense(10, input_shape=[2], activation = tf.keras.activations.linear),\n",
    "    tf.keras.layers.Dense(10,  activation = \"relu\"),\n",
    "    tf.keras.layers.Dense(1, activation = \"sigmoid\")\n",
    "], name='Circle_Classification_Model')\n",
    "\n",
    "# 2. Compile the model\n",
    "model.compile(loss = tf.keras.losses.BinaryCrossentropy(), \n",
    "             optimizer = tf.keras.optimizers.Adam(lr=0.01),  \n",
    "             metrics=[\"accuracy\"])\n",
    "\n",
    "callback = tf.keras.callbacks.EarlyStopping(monitor='loss', patience=3) # When to stop? EarlyStopping Callback\n",
    "\n",
    "#3. Fit the model\n",
    "history = model.fit(X, Y, epochs=200, verbose=0, callbacks=[callback]) #verbose=0"
   ]
  },
  {
   "cell_type": "code",
   "execution_count": null,
   "id": "c28a9b67",
   "metadata": {},
   "outputs": [],
   "source": [
    "def plot_decision_boundary(model, X, Y):\n",
    "    x_min, x_max = X[:,0].min() - 0.1, X[:,0].max() + 0.1\n",
    "    y_min, y_max = X[:,1].min() - 0.1, X[:,1].max() + 0.1\n",
    "    \n",
    "    xx, yy = np.meshgrid(np.linspace(x_min, x_max, 100), \n",
    "                        np.linspace(y_min, y_max, 100))\n",
    "    x_in = np.c_[xx.ravel(), yy.ravel()]\n",
    "    y_pred = model.predict(x_in)\n",
    "    \n",
    "    if len(y_pred[0]) > 1:\n",
    "        print(\"doing multiclass classification\")\n",
    "        y_pred = np.argmax(y_pred, axis=1).reshape(xx.shape)\n",
    "    else:\n",
    "        print(\"doing binary classification\")\n",
    "        y_pred = np.round(y_pred).reshape(xx.shape)\n",
    "    \n",
    "    plt.contourf(xx, yy, y_pred, cmap=plt.cm.RdYlBu, alpha=0.7)\n",
    "    plt.scatter(X[:,0], X[:,1], c=Y, s=40,cmap=plt.cm.RdYlBu )\n",
    "    plt.xlim(xx.min(), xx.max())\n",
    "    plt.ylim(yy.min(), yy.max())\n",
    "    plt.show()"
   ]
  },
  {
   "cell_type": "code",
   "execution_count": null,
   "id": "e8881f4a",
   "metadata": {
    "scrolled": true
   },
   "outputs": [],
   "source": [
    "plot_decision_boundary(model, X, Y)"
   ]
  },
  {
   "cell_type": "code",
   "execution_count": null,
   "id": "fd698ebb",
   "metadata": {},
   "outputs": [],
   "source": [
    "pd.DataFrame(history.history).plot()\n",
    "plt.xlabel(\"epochs\")\n",
    "plt.ylabel(\"loss\")\n",
    "plt.show()"
   ]
  },
  {
   "cell_type": "code",
   "execution_count": null,
   "id": "31a48835",
   "metadata": {},
   "outputs": [],
   "source": []
  }
 ],
 "metadata": {
  "kernelspec": {
   "display_name": "Python [conda env:wmlce-v1.7.0]",
   "language": "python",
   "name": "conda-env-wmlce-v1.7.0-py"
  },
  "language_info": {
   "codemirror_mode": {
    "name": "ipython",
    "version": 3
   },
   "file_extension": ".py",
   "mimetype": "text/x-python",
   "name": "python",
   "nbconvert_exporter": "python",
   "pygments_lexer": "ipython3",
   "version": "3.7.10"
  }
 },
 "nbformat": 4,
 "nbformat_minor": 5
}
