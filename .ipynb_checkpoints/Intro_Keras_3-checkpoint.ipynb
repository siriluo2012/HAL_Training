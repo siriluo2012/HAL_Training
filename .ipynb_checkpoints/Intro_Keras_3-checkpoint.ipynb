{
 "cells": [
  {
   "cell_type": "markdown",
   "id": "976ca1a8",
   "metadata": {},
   "source": [
    "### Using Tensorflow to work on a real regression problem from Kaggle"
   ]
  },
  {
   "cell_type": "code",
   "execution_count": null,
   "id": "18c36039",
   "metadata": {},
   "outputs": [],
   "source": [
    "import numpy as np\n",
    "import tensorflow as tf\n",
    "import pandas as pd\n",
    "import matplotlib.pyplot as plt\n",
    "import sklearn"
   ]
  },
  {
   "cell_type": "code",
   "execution_count": null,
   "id": "0c60a9a4",
   "metadata": {},
   "outputs": [],
   "source": [
    "# read a csv data\n",
    "insurance = pd.read_csv(\"./data/insurance.csv\") # medical cost personal datasets\n",
    "insurance.head(10)"
   ]
  },
  {
   "cell_type": "code",
   "execution_count": null,
   "id": "2a335196",
   "metadata": {},
   "outputs": [],
   "source": [
    "from sklearn.model_selection import train_test_split\n",
    "\n",
    "X = insurance.drop(\"charges\", axis=1)\n",
    "Y = insurance[\"charges\"]\n",
    "\n",
    "X_train, X_test, Y_train, Y_test = train_test_split(X, Y, train_size=0.8, random_state=42)\n",
    "X_train.shape, Y_train.shape, X_test.shape, Y_test.shape"
   ]
  },
  {
   "cell_type": "code",
   "execution_count": null,
   "id": "f5fe1828",
   "metadata": {},
   "outputs": [],
   "source": [
    "from sklearn.compose import make_column_transformer\n",
    "from sklearn.preprocessing import MinMaxScaler, OneHotEncoder\n",
    "ct = make_column_transformer(\n",
    "    (MinMaxScaler(), ['age','bmi', 'children']), \n",
    "    (OneHotEncoder(handle_unknown='ignore'), ['sex','smoker','region'])\n",
    ")"
   ]
  },
  {
   "cell_type": "code",
   "execution_count": null,
   "id": "333a6d41",
   "metadata": {},
   "outputs": [],
   "source": [
    "ct.fit(X_train)\n",
    "x_train_normal = ct.transform(X_train)\n",
    "X_test_normal = ct.transform(X_test)"
   ]
  },
  {
   "cell_type": "code",
   "execution_count": null,
   "id": "b35e148a",
   "metadata": {},
   "outputs": [],
   "source": [
    "# Build a neural network \n",
    "\n",
    "# 1. Create a model using the Sequential API\n",
    "model = tf.keras.Sequential([\n",
    "    tf.keras.layers.Dense(10, input_shape=[11], name='input_layer'),\n",
    "    tf.keras.layers.Dense(10,  name='second_layer'),\n",
    "    tf.keras.layers.Dense(1, name='output_layer')\n",
    "], name='Insurance_Regression_Model')\n",
    "\n",
    "# 2. Compile the model\n",
    "model.compile(loss = tf.keras.losses.mae, \n",
    "             optimizer = tf.keras.optimizers.Adam(lr=0.01),  \n",
    "             metrics=[\"mae\"])\n",
    "\n",
    "callback = tf.keras.callbacks.EarlyStopping(monitor='loss', patience=3) # When to stop? EarlyStopping Callback\n",
    "\n",
    "#3. Fit the model\n",
    "history = model.fit(x_train_normal, Y_train, epochs=200, callbacks=[callback]) #verbose=0"
   ]
  },
  {
   "cell_type": "code",
   "execution_count": null,
   "id": "65f13423",
   "metadata": {},
   "outputs": [],
   "source": [
    "Y_pred = model.predict(X_test_normal)"
   ]
  },
  {
   "cell_type": "code",
   "execution_count": null,
   "id": "6c78b6e3",
   "metadata": {},
   "outputs": [],
   "source": [
    "# calculate some metrics to evaluate the model performance\n",
    "mae = tf.metrics.mean_absolute_error(Y_test, tf.squeeze(Y_pred))\n",
    "mae.numpy() # Y_train.mean()"
   ]
  },
  {
   "cell_type": "code",
   "execution_count": null,
   "id": "4b41cfcd",
   "metadata": {},
   "outputs": [],
   "source": [
    "pd.DataFrame(history.history).plot()\n",
    "plt.xlabel(\"epochs\")\n",
    "plt.ylabel(\"loss\")\n",
    "plt.show()"
   ]
  }
 ],
 "metadata": {
  "kernelspec": {
   "display_name": "Python [conda env:wmlce-v1.7.0]",
   "language": "python",
   "name": "conda-env-wmlce-v1.7.0-py"
  },
  "language_info": {
   "codemirror_mode": {
    "name": "ipython",
    "version": 3
   },
   "file_extension": ".py",
   "mimetype": "text/x-python",
   "name": "python",
   "nbconvert_exporter": "python",
   "pygments_lexer": "ipython3",
   "version": "3.7.10"
  }
 },
 "nbformat": 4,
 "nbformat_minor": 5
}
